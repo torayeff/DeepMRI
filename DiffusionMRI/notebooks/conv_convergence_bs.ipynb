{
 "cells": [
  {
   "cell_type": "code",
   "execution_count": 1,
   "metadata": {},
   "outputs": [],
   "source": [
    "import matplotlib.pyplot as plt\n",
    "import seaborn as sns\n",
    "from os.path import join\n",
    "import numpy as np\n",
    "import pandas as pd\n",
    "import math\n",
    "\n",
    "%matplotlib inline\n",
    "%load_ext autoreload\n",
    "%autoreload 2"
   ]
  },
  {
   "cell_type": "code",
   "execution_count": 2,
   "metadata": {},
   "outputs": [
    {
     "data": {
      "text/html": [
       "<div>\n",
       "<style scoped>\n",
       "    .dataframe tbody tr th:only-of-type {\n",
       "        vertical-align: middle;\n",
       "    }\n",
       "\n",
       "    .dataframe tbody tr th {\n",
       "        vertical-align: top;\n",
       "    }\n",
       "\n",
       "    .dataframe thead th {\n",
       "        text-align: right;\n",
       "    }\n",
       "</style>\n",
       "<table border=\"1\" class=\"dataframe\">\n",
       "  <thead>\n",
       "    <tr style=\"text-align: right;\">\n",
       "      <th></th>\n",
       "      <th>Epochs</th>\n",
       "      <th>MSE Loss</th>\n",
       "      <th>Mini batch size</th>\n",
       "    </tr>\n",
       "  </thead>\n",
       "  <tbody>\n",
       "    <tr>\n",
       "      <th>0</th>\n",
       "      <td>1</td>\n",
       "      <td>0.00516</td>\n",
       "      <td>bs=1</td>\n",
       "    </tr>\n",
       "    <tr>\n",
       "      <th>1</th>\n",
       "      <td>1</td>\n",
       "      <td>0.00851</td>\n",
       "      <td>bs=2</td>\n",
       "    </tr>\n",
       "    <tr>\n",
       "      <th>2</th>\n",
       "      <td>1</td>\n",
       "      <td>0.01317</td>\n",
       "      <td>bs=4</td>\n",
       "    </tr>\n",
       "    <tr>\n",
       "      <th>3</th>\n",
       "      <td>1</td>\n",
       "      <td>0.01970</td>\n",
       "      <td>bs=8</td>\n",
       "    </tr>\n",
       "    <tr>\n",
       "      <th>4</th>\n",
       "      <td>1</td>\n",
       "      <td>0.03146</td>\n",
       "      <td>bs=16</td>\n",
       "    </tr>\n",
       "  </tbody>\n",
       "</table>\n",
       "</div>"
      ],
      "text/plain": [
       "   Epochs  MSE Loss Mini batch size\n",
       "0       1   0.00516            bs=1\n",
       "1       1   0.00851            bs=2\n",
       "2       1   0.01317            bs=4\n",
       "3       1   0.01970            bs=8\n",
       "4       1   0.03146           bs=16"
      ]
     },
     "execution_count": 2,
     "metadata": {},
     "output_type": "execute_result"
    }
   ],
   "source": [
    "bs1_losses = [0.00516, 0.00090, 0.00076, 0.00067, 0.00055, 0.00051, 0.00048, 0.00046, 0.00045, 0.00044]\n",
    "bs2_losses = [0.00851, 0.00151, 0.00092, 0.00081, 0.00075, 0.00069, 0.00062, 0.00056, 0.00051, 0.00049]\n",
    "bs4_losses = [0.01317, 0.00383, 0.00175, 0.00114, 0.00094, 0.00085, 0.00080, 0.00077, 0.00074, 0.00071]\n",
    "bs8_losses = [0.01970, 0.00649, 0.00456, 0.00287, 0.00194, 0.00146, 0.00120, 0.00105, 0.00095, 0.00090]\n",
    "bs16_losses = [0.03146, 0.00772, 0.00692, 0.00600, 0.00496, 0.00398, 0.00317, 0.00249, 0.00206, 0.00174]\n",
    "bs32_losses = [0.05009, 0.01126, 0.00776, 0.00733, 0.00698, 0.00649, 0.00593, 0.00533, 0.00475, 0.00420]\n",
    "loss_data = []\n",
    "for i in range(10):\n",
    "    loss_data += [[i+1, bs1_losses[i], \"bs=1\"]]\n",
    "    loss_data += [[i+1, bs2_losses[i], \"bs=2\"]]\n",
    "    loss_data += [[i+1, bs4_losses[i], \"bs=4\"]]\n",
    "    loss_data += [[i+1, bs8_losses[i], \"bs=8\"]]\n",
    "    loss_data += [[i+1, bs16_losses[i], \"bs=16\"]]\n",
    "    loss_data += [[i+1, bs32_losses[i], \"bs=32\"]]\n",
    "\n",
    "loss_df = pd.DataFrame(loss_data, columns=[\"Epochs\", \"MSE Loss\", \"Mini batch size\"])\n",
    "loss_df.head()"
   ]
  },
  {
   "cell_type": "code",
   "execution_count": 3,
   "metadata": {},
   "outputs": [
    {
     "data": {
      "text/plain": [
       "<matplotlib.axes._subplots.AxesSubplot at 0x7f4f0e712048>"
      ]
     },
     "execution_count": 3,
     "metadata": {},
     "output_type": "execute_result"
    },
    {
     "data": {
      "image/png": "[encoded data removed]",
      "text/plain": [
       "<Figure size 432x288 with 1 Axes>"
      ]
     },
     "metadata": {},
     "output_type": "display_data"
    }
   ],
   "source": [
    "sns.set(style=\"whitegrid\")\n",
    "sns.lineplot(x=\"Epochs\", y=\"MSE Loss\", hue=\"Mini batch size\", data=loss_df)"
   ]
  },
  {
   "cell_type": "code",
   "execution_count": 4,
   "metadata": {},
   "outputs": [
    {
     "data": {
      "text/html": [
       "<div>\n",
       "<style scoped>\n",
       "    .dataframe tbody tr th:only-of-type {\n",
       "        vertical-align: middle;\n",
       "    }\n",
       "\n",
       "    .dataframe tbody tr th {\n",
       "        vertical-align: top;\n",
       "    }\n",
       "\n",
       "    .dataframe thead th {\n",
       "        text-align: right;\n",
       "    }\n",
       "</style>\n",
       "<table border=\"1\" class=\"dataframe\">\n",
       "  <thead>\n",
       "    <tr style=\"text-align: right;\">\n",
       "      <th></th>\n",
       "      <th>group</th>\n",
       "      <th>MSE Loss</th>\n",
       "      <th>DICE score</th>\n",
       "    </tr>\n",
       "  </thead>\n",
       "  <tbody>\n",
       "    <tr>\n",
       "      <th>0</th>\n",
       "      <td>bs=1</td>\n",
       "      <td>0.00044</td>\n",
       "      <td>0.38547</td>\n",
       "    </tr>\n",
       "    <tr>\n",
       "      <th>1</th>\n",
       "      <td>bs=2</td>\n",
       "      <td>0.00049</td>\n",
       "      <td>0.36264</td>\n",
       "    </tr>\n",
       "    <tr>\n",
       "      <th>2</th>\n",
       "      <td>bs=4</td>\n",
       "      <td>0.00071</td>\n",
       "      <td>0.33800</td>\n",
       "    </tr>\n",
       "    <tr>\n",
       "      <th>3</th>\n",
       "      <td>bs=8</td>\n",
       "      <td>0.00090</td>\n",
       "      <td>0.34191</td>\n",
       "    </tr>\n",
       "    <tr>\n",
       "      <th>4</th>\n",
       "      <td>bs=16</td>\n",
       "      <td>0.00174</td>\n",
       "      <td>0.34468</td>\n",
       "    </tr>\n",
       "    <tr>\n",
       "      <th>5</th>\n",
       "      <td>bs=32</td>\n",
       "      <td>0.00420</td>\n",
       "      <td>0.32505</td>\n",
       "    </tr>\n",
       "  </tbody>\n",
       "</table>\n",
       "</div>"
      ],
      "text/plain": [
       "   group  MSE Loss  DICE score\n",
       "0   bs=1   0.00044     0.38547\n",
       "1   bs=2   0.00049     0.36264\n",
       "2   bs=4   0.00071     0.33800\n",
       "3   bs=8   0.00090     0.34191\n",
       "4  bs=16   0.00174     0.34468\n",
       "5  bs=32   0.00420     0.32505"
      ]
     },
     "execution_count": 4,
     "metadata": {},
     "output_type": "execute_result"
    }
   ],
   "source": [
    "batches = [1, 2, 4, 8, 16, 32]\n",
    "batch_labels = [\"bs=1\", \"bs=2\", \"bs=4\", \"bs=8\", \"bs=16\", \"bs=32\"]\n",
    "losses = [0.00044, 0.00049, 0.00071, 0.00090, 0.00174, 0.00420]\n",
    "dice_1 = [0.61405, 0.57333, 0.55674, 0.54217, 0.52956, 0.46033]\n",
    "dice_2 = [0.38547, 0.36264, 0.33800, 0.34191, 0.34468, 0.32505]\n",
    "\n",
    "data = []\n",
    "for i in range(6):\n",
    "    data += [[\"bs={}\".format(batches[i]), losses[i], dice_2[i]]]\n",
    "\n",
    "loss_df = pd.DataFrame(data, columns=[\"group\", \"MSE Loss\", \"DICE score\"])\n",
    "loss_df.head(6)"
   ]
  },
  {
   "cell_type": "code",
   "execution_count": 5,
   "metadata": {},
   "outputs": [
    {
     "data": {
      "text/plain": [
       "(0, 0.0052)"
      ]
     },
     "execution_count": 5,
     "metadata": {},
     "output_type": "execute_result"
    },
    {
     "data": {
      "image/png": "[encoded data removed]",
      "text/plain": [
       "<Figure size 432x288 with 1 Axes>"
      ]
     },
     "metadata": {},
     "output_type": "display_data"
    }
   ],
   "source": [
    "sns.set(style=\"whitegrid\")\n",
    "p1 = sns.regplot(data=loss_df, x=\"MSE Loss\", y=\"DICE score\", fit_reg=False, scatter_kws={'s':20})\n",
    "for i in range(6):\n",
    "     p1.text(losses[i] + 0.00003, dice_2[i], batch_labels[i], horizontalalignment='left', size='medium', color='black')\n",
    "plt.xlim(0, losses[-1] + 0.001)"
   ]
  },
  {
   "cell_type": "code",
   "execution_count": 7,
   "metadata": {},
   "outputs": [
    {
     "data": {
      "text/html": [
       "<div>\n",
       "<style scoped>\n",
       "    .dataframe tbody tr th:only-of-type {\n",
       "        vertical-align: middle;\n",
       "    }\n",
       "\n",
       "    .dataframe tbody tr th {\n",
       "        vertical-align: top;\n",
       "    }\n",
       "\n",
       "    .dataframe thead th {\n",
       "        text-align: right;\n",
       "    }\n",
       "</style>\n",
       "<table border=\"1\" class=\"dataframe\">\n",
       "  <thead>\n",
       "    <tr style=\"text-align: right;\">\n",
       "      <th></th>\n",
       "      <th>Epochs</th>\n",
       "      <th>MSE Loss</th>\n",
       "      <th>Nonlinearity</th>\n",
       "    </tr>\n",
       "  </thead>\n",
       "  <tbody>\n",
       "    <tr>\n",
       "      <th>0</th>\n",
       "      <td>1</td>\n",
       "      <td>0.00516</td>\n",
       "      <td>sigmoid</td>\n",
       "    </tr>\n",
       "    <tr>\n",
       "      <th>1</th>\n",
       "      <td>1</td>\n",
       "      <td>0.00229</td>\n",
       "      <td>tanh</td>\n",
       "    </tr>\n",
       "    <tr>\n",
       "      <th>2</th>\n",
       "      <td>1</td>\n",
       "      <td>0.00277</td>\n",
       "      <td>ReLU</td>\n",
       "    </tr>\n",
       "    <tr>\n",
       "      <th>3</th>\n",
       "      <td>1</td>\n",
       "      <td>0.00210</td>\n",
       "      <td>PReLU</td>\n",
       "    </tr>\n",
       "    <tr>\n",
       "      <th>4</th>\n",
       "      <td>2</td>\n",
       "      <td>0.00090</td>\n",
       "      <td>sigmoid</td>\n",
       "    </tr>\n",
       "  </tbody>\n",
       "</table>\n",
       "</div>"
      ],
      "text/plain": [
       "   Epochs  MSE Loss Nonlinearity\n",
       "0       1   0.00516      sigmoid\n",
       "1       1   0.00229         tanh\n",
       "2       1   0.00277         ReLU\n",
       "3       1   0.00210        PReLU\n",
       "4       2   0.00090      sigmoid"
      ]
     },
     "execution_count": 7,
     "metadata": {},
     "output_type": "execute_result"
    }
   ],
   "source": [
    "bs1_sigmoid = [0.00516, 0.00090, 0.00076, 0.00067, 0.00055, 0.00051, 0.00048, 0.00046, 0.00045, 0.00044]\n",
    "bs1_tanh = [0.00229, 0.00064, 0.00051, 0.00046, 0.00044, 0.00042, 0.00035, 0.00032, 0.00034, 0.00030]\n",
    "bs1_relu = [0.00277, 0.00090, 0.00084, 0.00078, 0.00073, 0.00077, 0.00072, 0.00070, 0.00070, 0.00069]\n",
    "bs1_prelu = [0.00210, 0.00062, 0.00047, 0.00043, 0.00041, 0.00041, 0.00036, 0.00035, 0.00032, 0.00028]\n",
    "\n",
    "data = []\n",
    "for i in range(10):\n",
    "    data += [[i+1, bs1_sigmoid[i], \"sigmoid\"]]\n",
    "    data += [[i+1, bs1_tanh[i], \"tanh\"]]\n",
    "    data += [[i+1, bs1_relu[i], \"ReLU\"]]\n",
    "    data += [[i+1, bs1_prelu[i], \"PReLU\"]]\n",
    "df = pd.DataFrame(data, columns=[\"Epochs\", \"MSE Loss\", \"Nonlinearity\"])\n",
    "df.head()"
   ]
  },
  {
   "cell_type": "code",
   "execution_count": 8,
   "metadata": {},
   "outputs": [
    {
     "data": {
      "text/plain": [
       "<matplotlib.axes._subplots.AxesSubplot at 0x7f4f0d59a128>"
      ]
     },
     "execution_count": 8,
     "metadata": {},
     "output_type": "execute_result"
    },
    {
     "data": {
      "image/png": "[encoded data removed]",
      "text/plain": [
       "<Figure size 432x288 with 1 Axes>"
      ]
     },
     "metadata": {},
     "output_type": "display_data"
    }
   ],
   "source": [
    "sns.set(style=\"whitegrid\")\n",
    "sns.lineplot(data=df, x=\"Epochs\", y=\"MSE Loss\", hue=\"Nonlinearity\")"
   ]
  },
  {
   "cell_type": "code",
   "execution_count": null,
   "metadata": {},
   "outputs": [],
   "source": []
  }
 ],
 "metadata": {
  "kernelspec": {
   "display_name": "Python 3",
   "language": "python",
   "name": "python3"
  },
  "language_info": {
   "codemirror_mode": {
    "name": "ipython",
    "version": 3
   },
   "file_extension": ".py",
   "mimetype": "text/x-python",
   "name": "python",
   "nbconvert_exporter": "python",
   "pygments_lexer": "ipython3",
   "version": "3.7.3"
  }
 },
 "nbformat": 4,
 "nbformat_minor": 2
}
