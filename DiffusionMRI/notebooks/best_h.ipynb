{
 "cells": [
  {
   "cell_type": "code",
   "execution_count": 1,
   "metadata": {},
   "outputs": [],
   "source": [
    "import matplotlib.pyplot as plt\n",
    "import seaborn as sns\n",
    "from os.path import join\n",
    "import numpy as np\n",
    "import pandas as pd\n",
    "import math\n",
    "\n",
    "%matplotlib inline\n",
    "%load_ext autoreload\n",
    "%autoreload 2"
   ]
  },
  {
   "cell_type": "code",
   "execution_count": 2,
   "metadata": {},
   "outputs": [
    {
     "data": {
      "text/html": [
       "<div>\n",
       "<style scoped>\n",
       "    .dataframe tbody tr th:only-of-type {\n",
       "        vertical-align: middle;\n",
       "    }\n",
       "\n",
       "    .dataframe tbody tr th {\n",
       "        vertical-align: top;\n",
       "    }\n",
       "\n",
       "    .dataframe thead th {\n",
       "        text-align: right;\n",
       "    }\n",
       "</style>\n",
       "<table border=\"1\" class=\"dataframe\">\n",
       "  <thead>\n",
       "    <tr style=\"text-align: right;\">\n",
       "      <th></th>\n",
       "      <th>h-channels</th>\n",
       "      <th>DICE score</th>\n",
       "      <th>Test set</th>\n",
       "    </tr>\n",
       "  </thead>\n",
       "  <tbody>\n",
       "    <tr>\n",
       "      <th>0</th>\n",
       "      <td>1</td>\n",
       "      <td>0.156073</td>\n",
       "      <td>Neighboring slices</td>\n",
       "    </tr>\n",
       "    <tr>\n",
       "      <th>1</th>\n",
       "      <td>1</td>\n",
       "      <td>0.140621</td>\n",
       "      <td>Full brain</td>\n",
       "    </tr>\n",
       "    <tr>\n",
       "      <th>2</th>\n",
       "      <td>2</td>\n",
       "      <td>0.305844</td>\n",
       "      <td>Neighboring slices</td>\n",
       "    </tr>\n",
       "    <tr>\n",
       "      <th>3</th>\n",
       "      <td>2</td>\n",
       "      <td>0.229035</td>\n",
       "      <td>Full brain</td>\n",
       "    </tr>\n",
       "    <tr>\n",
       "      <th>4</th>\n",
       "      <td>3</td>\n",
       "      <td>0.400544</td>\n",
       "      <td>Neighboring slices</td>\n",
       "    </tr>\n",
       "  </tbody>\n",
       "</table>\n",
       "</div>"
      ],
      "text/plain": [
       "   h-channels  DICE score            Test set\n",
       "0           1    0.156073  Neighboring slices\n",
       "1           1    0.140621          Full brain\n",
       "2           2    0.305844  Neighboring slices\n",
       "3           2    0.229035          Full brain\n",
       "4           3    0.400544  Neighboring slices"
      ]
     },
     "execution_count": 2,
     "metadata": {},
     "output_type": "execute_result"
    }
   ],
   "source": [
    "data1 = np.load(\"/home/agajan/DeepMRI/DiffusionMRI/scripts/ConvModel1_prelu_h_search_neighboring.npz\")\n",
    "data2 = np.load(\"/home/agajan/DeepMRI/DiffusionMRI/scripts/ConvModel1_prelu_h_search_fullbrain.npz\")\n",
    "n = len(data1[\"scores\"])\n",
    "data = []\n",
    "for i in range(n):\n",
    "    data += [[data1[\"dims\"][i], data1[\"scores\"][i], \"Neighboring slices\"]]\n",
    "    data += [[data2[\"dims\"][i], data2[\"scores\"][i], \"Full brain\"]]\n",
    "\n",
    "df = pd.DataFrame(data, columns=[\"h-channels\", \"DICE score\", \"Test set\"])\n",
    "df.head()"
   ]
  },
  {
   "cell_type": "code",
   "execution_count": 3,
   "metadata": {},
   "outputs": [
    {
     "data": {
      "text/plain": [
       "<matplotlib.axes._subplots.AxesSubplot at 0x7fc3c3a09400>"
      ]
     },
     "execution_count": 3,
     "metadata": {},
     "output_type": "execute_result"
    },
    {
     "data": {
      "image/png": "[encoded data removed]",
      "text/plain": [
       "<Figure size 432x288 with 1 Axes>"
      ]
     },
     "metadata": {},
     "output_type": "display_data"
    }
   ],
   "source": [
    "sns.set(style=\"whitegrid\")\n",
    "sns.lineplot(x=\"h-channels\", y=\"DICE score\", data=df, hue=\"Test set\")"
   ]
  },
  {
   "cell_type": "code",
   "execution_count": 11,
   "metadata": {},
   "outputs": [
    {
     "name": "stdout",
     "output_type": "stream",
     "text": [
      "52 0.7406563203583791\n"
     ]
    }
   ],
   "source": [
    "ss = [s for s in data1[\"scores\"]]\n",
    "bi = np.argmax(ss)\n",
    "print(bi + 1, ss[bi])"
   ]
  },
  {
   "cell_type": "code",
   "execution_count": 24,
   "metadata": {},
   "outputs": [
    {
     "name": "stdout",
     "output_type": "stream",
     "text": [
      "93 48\n"
     ]
    }
   ],
   "source": [
    "import math\n",
    "ss = [math.floor(s*100) for s in data2[\"scores\"]]\n",
    "ss[85] = 0\n",
    "bi = np.argmax(ss)\n",
    "print(bi + 1, ss[bi])"
   ]
  },
  {
   "cell_type": "code",
   "execution_count": 31,
   "metadata": {},
   "outputs": [
    {
     "data": {
      "text/plain": [
       "(0.7015004748109545, 0.4577389085647242)"
      ]
     },
     "execution_count": 31,
     "metadata": {},
     "output_type": "execute_result"
    }
   ],
   "source": [
    "data1[\"scores\"][21], data2[\"scores\"][21]"
   ]
  },
  {
   "cell_type": "code",
   "execution_count": null,
   "metadata": {},
   "outputs": [],
   "source": []
  }
 ],
 "metadata": {
  "kernelspec": {
   "display_name": "Python 3",
   "language": "python",
   "name": "python3"
  },
  "language_info": {
   "codemirror_mode": {
    "name": "ipython",
    "version": 3
   },
   "file_extension": ".py",
   "mimetype": "text/x-python",
   "name": "python",
   "nbconvert_exporter": "python",
   "pygments_lexer": "ipython3",
   "version": "3.7.3"
  }
 },
 "nbformat": 4,
 "nbformat_minor": 2
}
