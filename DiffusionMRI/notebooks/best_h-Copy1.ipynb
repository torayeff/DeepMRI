{
 "cells": [
  {
   "cell_type": "code",
   "execution_count": 1,
   "metadata": {},
   "outputs": [],
   "source": [
    "import matplotlib.pyplot as plt\n",
    "import seaborn as sns\n",
    "from os.path import join\n",
    "import numpy as np\n",
    "import pandas as pd\n",
    "import math\n",
    "\n",
    "%matplotlib inline\n",
    "%load_ext autoreload\n",
    "%autoreload 2"
   ]
  },
  {
   "cell_type": "code",
   "execution_count": 2,
   "metadata": {},
   "outputs": [
    {
     "data": {
      "text/html": [
       "<div>\n",
       "<style scoped>\n",
       "    .dataframe tbody tr th:only-of-type {\n",
       "        vertical-align: middle;\n",
       "    }\n",
       "\n",
       "    .dataframe tbody tr th {\n",
       "        vertical-align: top;\n",
       "    }\n",
       "\n",
       "    .dataframe thead th {\n",
       "        text-align: right;\n",
       "    }\n",
       "</style>\n",
       "<table border=\"1\" class=\"dataframe\">\n",
       "  <thead>\n",
       "    <tr style=\"text-align: right;\">\n",
       "      <th></th>\n",
       "      <th>h-dimension</th>\n",
       "      <th>DICE score</th>\n",
       "      <th>Test set</th>\n",
       "    </tr>\n",
       "  </thead>\n",
       "  <tbody>\n",
       "    <tr>\n",
       "      <th>0</th>\n",
       "      <td>10</td>\n",
       "      <td>0.643402</td>\n",
       "      <td>Neighboring slices</td>\n",
       "    </tr>\n",
       "    <tr>\n",
       "      <th>1</th>\n",
       "      <td>10</td>\n",
       "      <td>0.438084</td>\n",
       "      <td>Full brain</td>\n",
       "    </tr>\n",
       "    <tr>\n",
       "      <th>2</th>\n",
       "      <td>11</td>\n",
       "      <td>0.625202</td>\n",
       "      <td>Neighboring slices</td>\n",
       "    </tr>\n",
       "    <tr>\n",
       "      <th>3</th>\n",
       "      <td>11</td>\n",
       "      <td>0.436543</td>\n",
       "      <td>Full brain</td>\n",
       "    </tr>\n",
       "    <tr>\n",
       "      <th>4</th>\n",
       "      <td>12</td>\n",
       "      <td>0.630060</td>\n",
       "      <td>Neighboring slices</td>\n",
       "    </tr>\n",
       "  </tbody>\n",
       "</table>\n",
       "</div>"
      ],
      "text/plain": [
       "   h-dimension  DICE score            Test set\n",
       "0           10    0.643402  Neighboring slices\n",
       "1           10    0.438084          Full brain\n",
       "2           11    0.625202  Neighboring slices\n",
       "3           11    0.436543          Full brain\n",
       "4           12    0.630060  Neighboring slices"
      ]
     },
     "execution_count": 2,
     "metadata": {},
     "output_type": "execute_result"
    }
   ],
   "source": [
    "data1 = np.load(\"/home/agajan/DeepMRI/DiffusionMRI/Model1_tanh_h_search_neighboring.npz\")\n",
    "data2 = np.load(\"/home/agajan/DeepMRI/DiffusionMRI/Model1_tanh_h_search.npz\")\n",
    "\n",
    "data3 = np.load(\"/home/agajan/DeepMRI/DiffusionMRI/scripts/Model1_tanh_h_search_neighboring_1_9.npz\")\n",
    "data4 = np.load(\"/home/agajan/DeepMRI/DiffusionMRI/scripts/Model1_tanh_h_search_1_9.npz\")\n",
    "n = len(data1[\"scores\"])\n",
    "data = []\n",
    "for i in range(n):\n",
    "    data += [[data1[\"epochs\"][i], data1[\"scores\"][i], \"Neighboring slices\"]]\n",
    "    data += [[data2[\"epochs\"][i], data2[\"scores\"][i], \"Full brain\"]]\n",
    "\n",
    "for i in range(9):\n",
    "    data += [[data3[\"epochs\"][i], data3[\"scores\"][i], \"Neighboring slices\"]]\n",
    "    data += [[data4[\"epochs\"][i], data4[\"scores\"][i], \"Full brain\"]]\n",
    "    \n",
    "df = pd.DataFrame(data, columns=[\"h-dimension\", \"DICE score\", \"Test set\"])\n",
    "df.head()"
   ]
  },
  {
   "cell_type": "code",
   "execution_count": 3,
   "metadata": {},
   "outputs": [
    {
     "data": {
      "text/plain": [
       "<matplotlib.axes._subplots.AxesSubplot at 0x7fa4998ab780>"
      ]
     },
     "execution_count": 3,
     "metadata": {},
     "output_type": "execute_result"
    },
    {
     "data": {
      "image/png": "[encoded data removed]",
      "text/plain": [
       "<Figure size 432x288 with 1 Axes>"
      ]
     },
     "metadata": {},
     "output_type": "display_data"
    }
   ],
   "source": [
    "sns.set(style=\"whitegrid\")\n",
    "sns.lineplot(x=\"h-dimension\", y=\"DICE score\", data=df, hue=\"Test set\")"
   ]
  },
  {
   "cell_type": "code",
   "execution_count": 4,
   "metadata": {},
   "outputs": [
    {
     "data": {
      "text/plain": [
       "17"
      ]
     },
     "execution_count": 4,
     "metadata": {},
     "output_type": "execute_result"
    }
   ],
   "source": [
    "scores1 = list(data3[\"scores\"]) + list(data1[\"scores\"])\n",
    "hs1 = list(data3[\"epochs\"]) + list(data1[\"epochs\"])\n",
    "hs1[np.argmax(scores1)]"
   ]
  },
  {
   "cell_type": "code",
   "execution_count": 5,
   "metadata": {},
   "outputs": [
    {
     "data": {
      "text/plain": [
       "8"
      ]
     },
     "execution_count": 5,
     "metadata": {},
     "output_type": "execute_result"
    }
   ],
   "source": [
    "scores2 = list(data4[\"scores\"]) + list(data2[\"scores\"])\n",
    "hs2 = list(data4[\"epochs\"]) + list(data2[\"epochs\"])\n",
    "hs2[np.argmax(scores2)]"
   ]
  },
  {
   "cell_type": "code",
   "execution_count": 6,
   "metadata": {},
   "outputs": [
    {
     "data": {
      "text/plain": [
       "(8, 0.44328603466072397, 0.440268289542067)"
      ]
     },
     "execution_count": 6,
     "metadata": {},
     "output_type": "execute_result"
    }
   ],
   "source": [
    "hs2[7], scores2[7], scores2[17]"
   ]
  },
  {
   "cell_type": "code",
   "execution_count": 7,
   "metadata": {},
   "outputs": [
    {
     "data": {
      "text/plain": [
       "(8, 0.628131403052688, 0.6463656716182061)"
      ]
     },
     "execution_count": 7,
     "metadata": {},
     "output_type": "execute_result"
    }
   ],
   "source": [
    "hs1[7], scores1[7], scores1[17]"
   ]
  },
  {
   "cell_type": "code",
   "execution_count": 8,
   "metadata": {},
   "outputs": [
    {
     "data": {
      "text/html": [
       "<div>\n",
       "<style scoped>\n",
       "    .dataframe tbody tr th:only-of-type {\n",
       "        vertical-align: middle;\n",
       "    }\n",
       "\n",
       "    .dataframe tbody tr th {\n",
       "        vertical-align: top;\n",
       "    }\n",
       "\n",
       "    .dataframe thead th {\n",
       "        text-align: right;\n",
       "    }\n",
       "</style>\n",
       "<table border=\"1\" class=\"dataframe\">\n",
       "  <thead>\n",
       "    <tr style=\"text-align: right;\">\n",
       "      <th></th>\n",
       "      <th>Epochs</th>\n",
       "      <th>MSE Loss</th>\n",
       "      <th>Dimension</th>\n",
       "    </tr>\n",
       "  </thead>\n",
       "  <tbody>\n",
       "    <tr>\n",
       "      <th>0</th>\n",
       "      <td>1</td>\n",
       "      <td>0.00871</td>\n",
       "      <td>h=8</td>\n",
       "    </tr>\n",
       "    <tr>\n",
       "      <th>1</th>\n",
       "      <td>1</td>\n",
       "      <td>0.00666</td>\n",
       "      <td>h=10</td>\n",
       "    </tr>\n",
       "    <tr>\n",
       "      <th>2</th>\n",
       "      <td>1</td>\n",
       "      <td>0.00494</td>\n",
       "      <td>h=17</td>\n",
       "    </tr>\n",
       "    <tr>\n",
       "      <th>3</th>\n",
       "      <td>1</td>\n",
       "      <td>0.00433</td>\n",
       "      <td>h=22</td>\n",
       "    </tr>\n",
       "    <tr>\n",
       "      <th>4</th>\n",
       "      <td>1</td>\n",
       "      <td>0.00218</td>\n",
       "      <td>h=100</td>\n",
       "    </tr>\n",
       "  </tbody>\n",
       "</table>\n",
       "</div>"
      ],
      "text/plain": [
       "   Epochs  MSE Loss Dimension\n",
       "0       1   0.00871       h=8\n",
       "1       1   0.00666      h=10\n",
       "2       1   0.00494      h=17\n",
       "3       1   0.00433      h=22\n",
       "4       1   0.00218     h=100"
      ]
     },
     "execution_count": 8,
     "metadata": {},
     "output_type": "execute_result"
    }
   ],
   "source": [
    "h8_losses = [0.00871, 0.00284, 0.00260, 0.00253, 0.00252, 0.00252, 0.00252, 0.00252, 0.00252, 0.00251]\n",
    "h10_losses = [0.00666, 0.00239, 0.00226, 0.00224, 0.00223, 0.00223, 0.00223, 0.00223, 0.00223, 0.00223]\n",
    "h17_losses = [0.00494, 0.00215, 0.00201, 0.00197, 0.00196, 0.00196, 0.00196, 0.00196, 0.00195, 0.00195]\n",
    "h22_losses = [0.00433, 0.00201, 0.00189, 0.00185, 0.00184, 0.00183, 0.00183, 0.00183, 0.00183, 0.00183]\n",
    "h100_losses = [0.00218, 0.00128, 0.00123, 0.00121, 0.00119, 0.00118, 0.00118, 0.00117, 0.00117, 0.00117]\n",
    "loss_data = []\n",
    "for i in range(10):\n",
    "    loss_data += [[i+1, h8_losses[i], \"h=8\"]]\n",
    "    loss_data += [[i+1, h10_losses[i], \"h=10\"]]\n",
    "    loss_data += [[i+1, h17_losses[i], \"h=17\"]]\n",
    "    loss_data += [[i+1, h22_losses[i], \"h=22\"]]\n",
    "    loss_data += [[i+1, h100_losses[i], \"h=100\"]]\n",
    "\n",
    "loss_df = pd.DataFrame(loss_data, columns=[\"Epochs\", \"MSE Loss\", \"Dimension\"])\n",
    "loss_df.head()"
   ]
  },
  {
   "cell_type": "code",
   "execution_count": 9,
   "metadata": {},
   "outputs": [
    {
     "data": {
      "text/plain": [
       "<matplotlib.axes._subplots.AxesSubplot at 0x7fa49955bbe0>"
      ]
     },
     "execution_count": 9,
     "metadata": {},
     "output_type": "execute_result"
    },
    {
     "data": {
      "image/png": "[encoded data removed]",
      "text/plain": [
       "<Figure size 432x288 with 1 Axes>"
      ]
     },
     "metadata": {},
     "output_type": "display_data"
    }
   ],
   "source": [
    "sns.set(style=\"whitegrid\")\n",
    "sns.lineplot(x=\"Epochs\", y=\"MSE Loss\", hue=\"Dimension\", data=loss_df)"
   ]
  },
  {
   "cell_type": "code",
   "execution_count": 10,
   "metadata": {},
   "outputs": [
    {
     "data": {
      "text/plain": [
       "(0.628131403052688,\n",
       " 0.6434024379357102,\n",
       " 0.656152862790065,\n",
       " 0.643666242199663,\n",
       " 0.564921143006879)"
      ]
     },
     "execution_count": 10,
     "metadata": {},
     "output_type": "execute_result"
    }
   ],
   "source": [
    "scores1[7], scores1[9], scores1[16], scores1[21], scores1[99]"
   ]
  },
  {
   "cell_type": "code",
   "execution_count": 11,
   "metadata": {},
   "outputs": [
    {
     "data": {
      "text/plain": [
       "(0.44328603466072397,\n",
       " 0.43808447740430256,\n",
       " 0.4393200901045221,\n",
       " 0.432755804090308,\n",
       " 0.4100257065854711)"
      ]
     },
     "execution_count": 11,
     "metadata": {},
     "output_type": "execute_result"
    }
   ],
   "source": [
    "scores2[7], scores2[9], scores2[16], scores2[21], scores2[99]"
   ]
  },
  {
   "cell_type": "code",
   "execution_count": null,
   "metadata": {},
   "outputs": [],
   "source": []
  }
 ],
 "metadata": {
  "kernelspec": {
   "display_name": "Python 3",
   "language": "python",
   "name": "python3"
  },
  "language_info": {
   "codemirror_mode": {
    "name": "ipython",
    "version": 3
   },
   "file_extension": ".py",
   "mimetype": "text/x-python",
   "name": "python",
   "nbconvert_exporter": "python",
   "pygments_lexer": "ipython3",
   "version": "3.7.3"
  }
 },
 "nbformat": 4,
 "nbformat_minor": 2
}
