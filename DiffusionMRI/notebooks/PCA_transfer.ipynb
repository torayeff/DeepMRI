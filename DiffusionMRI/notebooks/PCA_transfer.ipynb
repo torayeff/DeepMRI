{
 "cells": [
  {
   "cell_type": "code",
   "execution_count": 1,
   "metadata": {},
   "outputs": [],
   "source": [
    "from os.path import join\n",
    "import numpy as np\n",
    "import nibabel as nib\n",
    "import sys\n",
    "from sklearn.decomposition import PCA\n",
    "\n",
    "sys.path.append('/home/agajan/DeepMRI')\n",
    "from deepmri import dsutils  # noqa: E402"
   ]
  },
  {
   "cell_type": "code",
   "execution_count": 2,
   "metadata": {},
   "outputs": [
    {
     "name": "stdout",
     "output_type": "stream",
     "text": [
      "Loading data.\n"
     ]
    },
    {
     "data": {
      "text/plain": [
       "PCA(copy=True, iterated_power='auto', n_components=10, random_state=0,\n",
       "    svd_solver='auto', tol=0.0, whiten=False)"
      ]
     },
     "execution_count": 2,
     "metadata": {},
     "output_type": "execute_result"
    }
   ],
   "source": [
    "# settings\n",
    "subj_id = \"784565\"\n",
    "exp_dir = \"/home/agajan/experiment_DiffusionMRI/tractseg_data/\"\n",
    "data_path = join(exp_dir, subj_id, 'data.nii.gz')\n",
    "mask_path = join(exp_dir, subj_id, 'nodif_brain_mask.nii.gz')\n",
    "\n",
    "print(\"Loading data.\")\n",
    "data = nib.load(data_path).get_data()\n",
    "mask = nib.load(mask_path).get_data()\n",
    "\n",
    "nc = 10  # number of components\n",
    "coords = []\n",
    "features = []\n",
    "for x in range(145):\n",
    "    for y in range(174):\n",
    "        for z in range(145):\n",
    "            if mask[x, y, z]:\n",
    "                coords.append((x, y, z))\n",
    "                features.append(data[x, y, z, :])\n",
    "\n",
    "pca = PCA(n_components=10, random_state=0)\n",
    "pca.fit(features)"
   ]
  },
  {
   "cell_type": "code",
   "execution_count": 3,
   "metadata": {},
   "outputs": [
    {
     "name": "stdout",
     "output_type": "stream",
     "text": [
      "Loading data.\n",
      "Making features volume.\n"
     ]
    }
   ],
   "source": [
    "subj_id = \"789373\"\n",
    "exp_dir = \"/home/agajan/experiment_DiffusionMRI/tractseg_data/\"\n",
    "data_path = join(exp_dir, subj_id, 'data.nii.gz')\n",
    "mask_path = join(exp_dir, subj_id, 'nodif_brain_mask.nii.gz')\n",
    "save_path = join(exp_dir, subj_id, 'unnorm_voxels_pca_{}_nc_10.npz'.format(subj_id))\n",
    "\n",
    "print(\"Loading data.\")\n",
    "data = nib.load(data_path).get_data()\n",
    "mask = nib.load(mask_path).get_data()\n",
    "\n",
    "coords = []\n",
    "features = []\n",
    "for x in range(145):\n",
    "    for y in range(174):\n",
    "        for z in range(145):\n",
    "            if mask[x, y, z]:\n",
    "                coords.append((x, y, z))\n",
    "                features.append(data[x, y, z, :])\n",
    "\n",
    "                \n",
    "features_reduced = pca.transform(features)\n",
    "print(\"Making features volume.\")\n",
    "features_volume = np.zeros((145, 174, 145, 10))\n",
    "for idx, crd in enumerate(coords):\n",
    "    features_volume[crd[0], crd[1], crd[2], :] = features_reduced[idx]\n",
    "np.savez(save_path, data=features_volume)"
   ]
  },
  {
   "cell_type": "code",
   "execution_count": null,
   "metadata": {},
   "outputs": [],
   "source": []
  }
 ],
 "metadata": {
  "kernelspec": {
   "display_name": "Python 3",
   "language": "python",
   "name": "python3"
  },
  "language_info": {
   "codemirror_mode": {
    "name": "ipython",
    "version": 3
   },
   "file_extension": ".py",
   "mimetype": "text/x-python",
   "name": "python",
   "nbconvert_exporter": "python",
   "pygments_lexer": "ipython3",
   "version": "3.7.3"
  }
 },
 "nbformat": 4,
 "nbformat_minor": 2
}
