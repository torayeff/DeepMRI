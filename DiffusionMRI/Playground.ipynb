{
 "cells": [
  {
   "cell_type": "code",
   "execution_count": 1,
   "metadata": {},
   "outputs": [],
   "source": [
    "import torch\n",
    "import torch.nn as nn\n",
    "\n",
    "device = torch.device(\"cuda:0\" if torch.cuda.is_available() else \"cpu\")\n",
    "\n",
    "# for reproducibility\n",
    "torch.manual_seed(0)\n",
    "torch.backends.cudnn.benchmark = False  # set False whenever input size varies\n",
    "torch.backends.cudnn.deterministic = True\n",
    "# torch.cuda.empty_cache()"
   ]
  },
  {
   "cell_type": "code",
   "execution_count": 10,
   "metadata": {},
   "outputs": [],
   "source": [
    "# read data\n"
   ]
  },
  {
   "cell_type": "code",
   "execution_count": 12,
   "metadata": {},
   "outputs": [],
   "source": [
    "class Encoder(nn.Module):\n",
    "    def __init__(self):\n",
    "        super().__init__()\n",
    "        \n",
    "        self.encode = nn.Sequential(\n",
    "            # N x 1 x 145 x 174 x 145 --> N x 16 x 73 x 87 x 73\n",
    "            nn.Conv3d(\n",
    "                in_channels=1,\n",
    "                out_channels=1,\n",
    "                kernel_size=3,\n",
    "                stride=2,\n",
    "                padding=1\n",
    "            ),\n",
    "            nn.BatchNorm3d(16),\n",
    "            nn.ReLU(),\n",
    "        )\n",
    "    \n",
    "    def forward(self, x):\n",
    "        return self.encode(x)\n",
    "\n",
    "class Decoder(nn.Module):\n",
    "    def __init__(self):\n",
    "        super().__init__()\n",
    "    \n",
    "        self.decode = nn.Sequential(\n",
    "            # N x 1 x 73 x 87 x 73 --> N x 1 x 145 x 174 x 145\n",
    "            nn.ConvTranspose3d(\n",
    "                in_channels=1,\n",
    "                out_channels=1,\n",
    "                kernel_size=3,\n",
    "                stride=2,\n",
    "                padding=1,\n",
    "                output_padding=(0, 1, 0)\n",
    "            ),\n",
    "            nn.BatchNorm3d(1),\n",
    "            nn.ReLU(),\n",
    "            \n",
    "            # layer to remove checkerboard artifacts\n",
    "            # N x 1 x 145 x 174 x 145 -->  N x 1 x 145 x 174 x 145\n",
    "            nn.Conv3d(\n",
    "                in_channels=1,\n",
    "                out_channels=1,\n",
    "                kernel_size=3,\n",
    "                stride=1,\n",
    "                padding=1,\n",
    "            )\n",
    "            nn.BatchNorm3d(1),\n",
    "        )\n",
    "    \n",
    "    def forward(self, feature):\n",
    "        return self.decode(feature)"
   ]
  },
  {
   "cell_type": "code",
   "execution_count": null,
   "metadata": {},
   "outputs": [],
   "source": []
  }
 ],
 "metadata": {
  "kernelspec": {
   "display_name": "Python 3",
   "language": "python",
   "name": "python3"
  },
  "language_info": {
   "codemirror_mode": {
    "name": "ipython",
    "version": 3
   },
   "file_extension": ".py",
   "mimetype": "text/x-python",
   "name": "python",
   "nbconvert_exporter": "python",
   "pygments_lexer": "ipython3",
   "version": "3.7.1"
  }
 },
 "nbformat": 4,
 "nbformat_minor": 2
}
