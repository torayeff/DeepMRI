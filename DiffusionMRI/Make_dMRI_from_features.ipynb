{
 "cells": [
  {
   "cell_type": "markdown",
   "metadata": {},
   "source": [
    "### Make Diffusion MRI image from reconstructed volumes"
   ]
  },
  {
   "cell_type": "code",
   "execution_count": 1,
   "metadata": {},
   "outputs": [
    {
     "name": "stdout",
     "output_type": "stream",
     "text": [
      "/home/agajan/DeepMRI\n"
     ]
    }
   ],
   "source": [
    "cd .."
   ]
  },
  {
   "cell_type": "code",
   "execution_count": 2,
   "metadata": {},
   "outputs": [
    {
     "name": "stdout",
     "output_type": "stream",
     "text": [
      "Device:  cuda:0\n"
     ]
    }
   ],
   "source": [
    "import torch\n",
    "import torch.nn as nn\n",
    "from deepmri.Datasets import Slice3dDataset\n",
    "import deepmri.utils as utils\n",
    "from DiffusionMRI.ConvEncoder import ConvEncoder\n",
    "from DiffusionMRI.ConvDecoder import ConvDecoder\n",
    "import torch.optim as optim\n",
    "import pickle\n",
    "import matplotlib.pyplot as plt\n",
    "import nibabel as nib\n",
    "import time\n",
    "import os\n",
    "import numpy as np\n",
    "%matplotlib inline\n",
    "\n",
    "device = torch.device(\"cuda:0\" if torch.cuda.is_available() else \"cpu\")\n",
    "print(\"Device: \", device)"
   ]
  },
  {
   "cell_type": "code",
   "execution_count": 3,
   "metadata": {},
   "outputs": [
    {
     "data": {
      "text/plain": [
       "ConvDecoder(\n",
       "  (decode): Sequential(\n",
       "    (0): ConvTranspose3d(64, 32, kernel_size=(3, 3, 3), stride=(2, 2, 2), padding=(1, 1, 1), output_padding=(0, 1, 0))\n",
       "    (1): BatchNorm3d(32, eps=1e-05, momentum=0.1, affine=True, track_running_stats=True)\n",
       "    (2): ReLU()\n",
       "    (3): ConvTranspose3d(32, 16, kernel_size=(3, 3, 3), stride=(2, 2, 2), padding=(1, 1, 1))\n",
       "    (4): BatchNorm3d(16, eps=1e-05, momentum=0.1, affine=True, track_running_stats=True)\n",
       "    (5): ReLU()\n",
       "    (6): ConvTranspose3d(16, 1, kernel_size=(3, 3, 3), stride=(2, 2, 2), padding=(1, 1, 1), output_padding=(0, 1, 0))\n",
       "    (7): BatchNorm3d(1, eps=1e-05, momentum=0.1, affine=True, track_running_stats=True)\n",
       "  )\n",
       ")"
      ]
     },
     "execution_count": 3,
     "metadata": {},
     "output_type": "execute_result"
    }
   ],
   "source": [
    "encoder = ConvEncoder(input_channels=1)\n",
    "encoder.to(device)\n",
    "\n",
    "decoder = ConvDecoder(out_channels=1)\n",
    "decoder.to(device)\n",
    "\n",
    "criterion = nn.MSELoss()\n",
    "encoder_path = '/home/agajan/DeepMRI/DiffusionMRI/models/step1_conv_encoder_epoch_8'\n",
    "decoder_path = '/home/agajan/DeepMRI/DiffusionMRI/models/step1_conv_decoder_epoch_8'\n",
    "encoder.load_state_dict(torch.load(encoder_path))\n",
    "decoder.load_state_dict(torch.load(decoder_path))\n",
    "\n",
    "encoder.eval()\n",
    "decoder.eval()"
   ]
  },
  {
   "cell_type": "code",
   "execution_count": 4,
   "metadata": {},
   "outputs": [],
   "source": [
    "subj_id = '198451'\n",
    "data_path = '/media/schultz/345de007-c698-4c33-93c1-3964b99c5df6/regina/'\n",
    "dmri_path = os.path.join(data_path, subj_id, 'Diffusion/data.nii.gz')\n",
    "save_path = '/media/schultz/345de007-c698-4c33-93c1-3964b99c5df6/agajan/experiment_DiffusionMRI/reconstructions/'"
   ]
  },
  {
   "cell_type": "code",
   "execution_count": null,
   "metadata": {},
   "outputs": [
    {
     "name": "stdout",
     "output_type": "stream",
     "text": [
      "(145, 174, 145, 288)\n"
     ]
    }
   ],
   "source": [
    "dmri = nib.load(dmri_path)\n",
    "dmri_data = dmri.get_fdata()\n",
    "print(dmri.shape)"
   ]
  },
  {
   "cell_type": "code",
   "execution_count": null,
   "metadata": {},
   "outputs": [
    {
     "name": "stdout",
     "output_type": "stream",
     "text": [
      "50/288\n",
      "100/288\n",
      "150/288\n",
      "200/288\n",
      "250/288\n",
      "288/288\n",
      "Creating new dMRI image...\n",
      "Saving new dMRI image...\n"
     ]
    }
   ],
   "source": [
    "new_data = np.zeros(dmri.shape)\n",
    "\n",
    "c = 1\n",
    "with torch.no_grad():\n",
    "    for i in range(dmri.shape[3]):\n",
    "        x = dmri_data[:, :, :, i]\n",
    "        mu = x.mean()\n",
    "        std = x.std()\n",
    "        x = (x - mu ) / std  # normalize\n",
    "        vol = torch.tensor(x).float().unsqueeze(0).unsqueeze(0) # add batch and channel\n",
    "        out = decoder(encoder(vol.to(device))).detach().cpu().squeeze().numpy()\n",
    "        new_data[:, :, :, i] = out * std + mu  # get back initial numbers\n",
    "        if c % 50 == 0:\n",
    "            print(\"{}/{}\".format(c, dmri.shape[3]))\n",
    "        c += 1\n",
    "print(\"{}/{}\".format(dmri.shape[3], dmri.shape[3]))\n",
    "\n",
    "print(\"Creating new dMRI image...\")\n",
    "new_dmri_img = nib.Nifti1Image(new_data, dmri.affine, dmri.header)\n",
    "dst = os.path.join(save_path, 'conv_rec_' + subj_id + '.nii.gz')\n",
    "print(\"Saving new dMRI image...\")\n",
    "nib.save(new_dmri_img, dst)\n",
    "print(\"Reconstructed dMRI image was saved\")"
   ]
  },
  {
   "cell_type": "code",
   "execution_count": null,
   "metadata": {},
   "outputs": [],
   "source": [
    "x_coord = 100\n",
    "y_coord = 87\n",
    "z_coord = 73\n",
    "t = 100\n",
    "\n",
    "volume_orig = dmri_data[:, :, :, t]\n",
    "volume_rec = new_data[:, :, :, t]\n",
    "\n",
    "utils.show_slices([\n",
    "    volume_orig[x_coord, :, :],\n",
    "    volume_orig[:, y_coord, :],\n",
    "    volume_orig[:, :, z_coord],\n",
    "], figsize=(15, 8), suptitle=\"Original Image\")\n",
    "\n",
    "utils.show_slices([\n",
    "    volume_rec[x_coord, :, :].clip(min=0),\n",
    "    volume_rec[:, y_coord, :].clip(min=0),\n",
    "    volume_rec[:, :, z_coord].clip(min=0)\n",
    "], figsize=(15, 8), suptitle=\"Reconstructed Image with min=0\")\n",
    "\n",
    "utils.show_slices([\n",
    "    volume_rec[x_coord, :, :],\n",
    "    volume_rec[:, y_coord, :],\n",
    "    volume_rec[:, :, z_coord]\n",
    "], figsize=(15, 8), suptitle=\"Reconstructed Image (contains negative vals)\")"
   ]
  },
  {
   "cell_type": "code",
   "execution_count": null,
   "metadata": {},
   "outputs": [],
   "source": [
    "orig_tensor = torch.tensor(volume_orig).float()\n",
    "rec_tensor = torch.tensor(volume_rec).float()\n",
    "with torch.no_grad():\n",
    "    print(criterion(orig_tensor, rec_tensor))"
   ]
  },
  {
   "cell_type": "code",
   "execution_count": null,
   "metadata": {},
   "outputs": [],
   "source": [
    "with torch.no_grad():\n",
    "    print(criterion(orig_tensor, rec_tensor))"
   ]
  },
  {
   "cell_type": "code",
   "execution_count": null,
   "metadata": {},
   "outputs": [],
   "source": [
    "torch.min(orig_tensor), torch.min(rec_tensor)"
   ]
  },
  {
   "cell_type": "code",
   "execution_count": null,
   "metadata": {},
   "outputs": [],
   "source": []
  }
 ],
 "metadata": {
  "kernelspec": {
   "display_name": "Python 3",
   "language": "python",
   "name": "python3"
  },
  "language_info": {
   "codemirror_mode": {
    "name": "ipython",
    "version": 3
   },
   "file_extension": ".py",
   "mimetype": "text/x-python",
   "name": "python",
   "nbconvert_exporter": "python",
   "pygments_lexer": "ipython3",
   "version": "3.7.1"
  }
 },
 "nbformat": 4,
 "nbformat_minor": 2
}
