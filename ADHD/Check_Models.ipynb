{
 "cells": [
  {
   "cell_type": "markdown",
   "metadata": {},
   "source": [
    "## Check the performance of Models"
   ]
  },
  {
   "cell_type": "code",
   "execution_count": 1,
   "metadata": {},
   "outputs": [],
   "source": [
    "import torch\n",
    "import torch.nn as nn\n",
    "import Datasets\n",
    "import utils\n",
    "import time\n",
    "from ConvEncoder import ConvEncoder\n",
    "from ConvDecoder import ConvDecoder\n",
    "from Conv3DRNNCell import Conv3DGRUCell\n",
    "from RNNEncoder import RNNEncoder\n",
    "from RNNDecoder import RNNDecoder\n",
    "import torch.optim as optim\n",
    "import pickle\n",
    "import matplotlib.pyplot as plt\n",
    "import nibabel as nib\n",
    "%matplotlib inline\n",
    "plt.rcParams[\"figure.figsize\"] = (10,5)"
   ]
  },
  {
   "cell_type": "code",
   "execution_count": 2,
   "metadata": {},
   "outputs": [
    {
     "name": "stdout",
     "output_type": "stream",
     "text": [
      "Device:  cuda:0\n"
     ]
    }
   ],
   "source": [
    "device = torch.device(\"cuda:0\" if torch.cuda.is_available() else \"cpu\")\n",
    "print(\"Device: \", device)"
   ]
  },
  {
   "cell_type": "markdown",
   "metadata": {},
   "source": [
    "### Load Models"
   ]
  },
  {
   "cell_type": "code",
   "execution_count": 3,
   "metadata": {},
   "outputs": [
    {
     "data": {
      "text/plain": [
       "RNNDecoder(\n",
       "  (rnn): Conv3DGRUCell(\n",
       "    (conv_input): Conv3d(192, 384, kernel_size=(3, 3, 3), stride=(1, 1, 1), padding=(1, 1, 1))\n",
       "    (conv_hidden): Conv3d(128, 384, kernel_size=(3, 3, 3), stride=(1, 1, 1), padding=(1, 1, 1))\n",
       "  )\n",
       "  (out_conv): Conv3d(320, 64, kernel_size=(3, 3, 3), stride=(1, 1, 1), padding=(1, 1, 1))\n",
       ")"
      ]
     },
     "execution_count": 3,
     "metadata": {},
     "output_type": "execute_result"
    }
   ],
   "source": [
    "conv_encoder = ConvEncoder(input_channels=1)\n",
    "conv_encoder.to(device)\n",
    "conv_encoder.load_state_dict(torch.load('/home/agajan/DeepMRI/models/final_conv_encoder'))\n",
    "conv_encoder.eval()\n",
    "\n",
    "conv_decoder = ConvDecoder(out_channels=1)\n",
    "conv_decoder.to(device)\n",
    "conv_decoder.load_state_dict(torch.load('/home/agajan/DeepMRI/models/final_conv_decoder'))\n",
    "conv_decoder.eval()\n",
    "\n",
    "rnn_encoder = RNNEncoder(\n",
    "    Conv3DGRUCell,\n",
    "    input_channels=64,\n",
    "    hidden_channels=128,\n",
    "    kernel_size=3,\n",
    "    stride=1,\n",
    "    padding=1,\n",
    "    hidden_kernel_size=3\n",
    ")\n",
    "rnn_encoder.to(device)\n",
    "rnn_encoder.load_state_dict(torch.load('/home/agajan/DeepMRI/models/final_adam_rnn_encoder_401'))\n",
    "rnn_encoder.eval()\n",
    "\n",
    "rnn_decoder = RNNDecoder(\n",
    "    Conv3DGRUCell,\n",
    "    input_channels=64,\n",
    "    hidden_channels=128,\n",
    "    kernel_size=3,\n",
    "    stride=1,\n",
    "    padding=1,\n",
    "    hidden_kernel_size=3,\n",
    "    output_channels=64,\n",
    "    output_kernel_size=3\n",
    ")\n",
    "rnn_decoder.load_state_dict(torch.load('/home/agajan/DeepMRI/models/final_adam_rnn_decoder_401'))\n",
    "rnn_decoder.to(device)\n",
    "rnn_decoder.eval()"
   ]
  },
  {
   "cell_type": "markdown",
   "metadata": {},
   "source": [
    "### Get one 4D fMRI image"
   ]
  },
  {
   "cell_type": "code",
   "execution_count": 4,
   "metadata": {},
   "outputs": [
    {
     "name": "stdout",
     "output_type": "stream",
     "text": [
      "(49, 58, 47, 230)\n"
     ]
    }
   ],
   "source": [
    "fmri_path = '/home/agajan/data/sfnwmrda7339173_session_1_rest_1.nii.gz'\n",
    "# fmri_path = '/home/agajan/test_data/sfnwmrda9744150_session_1_rest_1.nii.gz'\n",
    "seq_len = 230\n",
    "fmri = nib.load(fmri_path).get_fdata()[:, :, :, :seq_len] # take first 50 sequences\n",
    "print(fmri.shape)"
   ]
  },
  {
   "cell_type": "markdown",
   "metadata": {},
   "source": [
    "How to get feature representation of 4D series?\n",
    "1. For each 3D volume use ConvEncoder to encode into series of 3D features.\n",
    "2. Use RNNEncoder to encode series of 3D features."
   ]
  },
  {
   "cell_type": "markdown",
   "metadata": {},
   "source": [
    "### Get 3D representations"
   ]
  },
  {
   "cell_type": "code",
   "execution_count": 5,
   "metadata": {},
   "outputs": [],
   "source": [
    "with torch.no_grad():\n",
    "    conv_enc_out = torch.zeros(fmri.shape[3], 64, 7, 8, 6)\n",
    "    for i in range(fmri.shape[3]):\n",
    "        slice_3d = torch.tensor(fmri[:, :, :, i]).unsqueeze(0).unsqueeze(0).float()# batch x channel x w x h x d\n",
    "        feature = conv_encoder(slice_3d.to(device)).cpu().squeeze()\n",
    "        conv_enc_out[i, :, :, :, :] = feature"
   ]
  },
  {
   "cell_type": "code",
   "execution_count": 6,
   "metadata": {},
   "outputs": [
    {
     "data": {
      "text/plain": [
       "torch.Size([230, 64, 7, 8, 6])"
      ]
     },
     "execution_count": 6,
     "metadata": {},
     "output_type": "execute_result"
    }
   ],
   "source": [
    "# series of 3D feature representations\n",
    "conv_enc_out.shape # time x channel x w x h x d"
   ]
  },
  {
   "cell_type": "markdown",
   "metadata": {},
   "source": [
    "### Get representation from 3D representations"
   ]
  },
  {
   "cell_type": "code",
   "execution_count": 7,
   "metadata": {},
   "outputs": [
    {
     "name": "stdout",
     "output_type": "stream",
     "text": [
      "torch.Size([1, 128, 7, 8, 6])\n"
     ]
    }
   ],
   "source": [
    "with torch.no_grad():\n",
    "    context_batch = rnn_encoder(conv_enc_out.unsqueeze(0).to(device))\n",
    "print(context_batch.shape)"
   ]
  },
  {
   "cell_type": "markdown",
   "metadata": {},
   "source": [
    "How to decode feature into original 3D series?\n",
    "1. Use RNNDecoder to decode feature into series of 3D features.\n",
    "2. For each 3D feature use ConvDecoder to get original volume."
   ]
  },
  {
   "cell_type": "markdown",
   "metadata": {},
   "source": [
    "### Get back 3D representations"
   ]
  },
  {
   "cell_type": "code",
   "execution_count": 8,
   "metadata": {},
   "outputs": [
    {
     "name": "stdout",
     "output_type": "stream",
     "text": [
      "torch.Size([1, 230, 64, 7, 8, 6])\n"
     ]
    }
   ],
   "source": [
    "with torch.no_grad():\n",
    "    trg_batch = conv_enc_out.unsqueeze(0).to(device)\n",
    "    seq_len = trg_batch.shape[1]\n",
    "\n",
    "    hidden_batch = context_batch\n",
    "\n",
    "    input_batch = trg_batch.new_ones(trg_batch[:, 0, :, :, :, :].shape)\n",
    "\n",
    "    rnn_outputs = trg_batch.new_zeros(trg_batch.shape)\n",
    "\n",
    "    for t in range(seq_len):\n",
    "        input_batch, hidden_batch = rnn_decoder(input_batch, hidden_batch, context_batch)\n",
    "        rnn_outputs[:, t, :, :, :, :] = input_batch\n",
    "\n",
    "    print(rnn_outputs.shape)"
   ]
  },
  {
   "cell_type": "markdown",
   "metadata": {},
   "source": [
    "### Decode 3D features"
   ]
  },
  {
   "cell_type": "code",
   "execution_count": 9,
   "metadata": {},
   "outputs": [],
   "source": [
    "out_fmri = torch.zeros(fmri.shape)"
   ]
  },
  {
   "cell_type": "code",
   "execution_count": 10,
   "metadata": {},
   "outputs": [],
   "source": [
    "with torch.no_grad():\n",
    "    for i in range(seq_len):\n",
    "        out_3d = conv_decoder(rnn_outputs[:,i,:,:,:,:])\n",
    "        out_fmri[:,:,:,i] = out_3d.cpu()"
   ]
  },
  {
   "cell_type": "code",
   "execution_count": 11,
   "metadata": {},
   "outputs": [
    {
     "data": {
      "text/plain": [
       "torch.Size([49, 58, 47, 230])"
      ]
     },
     "execution_count": 11,
     "metadata": {},
     "output_type": "execute_result"
    }
   ],
   "source": [
    "out_fmri.shape"
   ]
  },
  {
   "cell_type": "markdown",
   "metadata": {},
   "source": [
    "### (Optional) Decode back for comparison"
   ]
  },
  {
   "cell_type": "code",
   "execution_count": 12,
   "metadata": {},
   "outputs": [],
   "source": [
    "conv_dec_out = torch.zeros(fmri.shape)\n",
    "with torch.no_grad():\n",
    "    for i in range(seq_len):\n",
    "        out_3d = conv_decoder(conv_enc_out[i].unsqueeze(0).to(device)).squeeze()\n",
    "        conv_dec_out[:,:,:,i] = out_3d.cpu()"
   ]
  },
  {
   "cell_type": "markdown",
   "metadata": {},
   "source": [
    "### Plot slices"
   ]
  },
  {
   "cell_type": "code",
   "execution_count": 13,
   "metadata": {},
   "outputs": [],
   "source": [
    "w = 24\n",
    "h = 29\n",
    "d = 23\n",
    "t = 0"
   ]
  },
  {
   "cell_type": "markdown",
   "metadata": {},
   "source": [
    "#### Original Image"
   ]
  },
  {
   "cell_type": "code",
   "execution_count": 14,
   "metadata": {},
   "outputs": [
    {
     "data": {
      "image/png": "[encoded data removed]",
      "text/plain": [
       "<Figure size 720x1440 with 3 Axes>"
      ]
     },
     "metadata": {
      "needs_background": "light"
     },
     "output_type": "display_data"
    }
   ],
   "source": [
    "utils.show_slices([\n",
    "    fmri[w, :, :, t],\n",
    "    fmri[:, h, :, t],\n",
    "    fmri[:, :, d, t]\n",
    "], figsize=(10, 20))"
   ]
  },
  {
   "cell_type": "markdown",
   "metadata": {},
   "source": [
    "#### After ConvDecoder"
   ]
  },
  {
   "cell_type": "code",
   "execution_count": 15,
   "metadata": {},
   "outputs": [
    {
     "name": "stdout",
     "output_type": "stream",
     "text": [
      "torch.Size([49, 58, 47, 230])\n"
     ]
    },
    {
     "data": {
      "image/png": "[encoded data removed]",
      "text/plain": [
       "<Figure size 720x360 with 3 Axes>"
      ]
     },
     "metadata": {
      "needs_background": "light"
     },
     "output_type": "display_data"
    }
   ],
   "source": [
    "print(conv_dec_out.shape)\n",
    "\n",
    "utils.show_slices([\n",
    "    conv_dec_out.detach().squeeze().cpu().numpy()[w, :, :, t],\n",
    "    conv_dec_out.detach().squeeze().cpu().numpy()[:, h, :, t],\n",
    "    conv_dec_out.detach().squeeze().cpu().numpy()[:, :, d, t]\n",
    "])"
   ]
  },
  {
   "cell_type": "markdown",
   "metadata": {},
   "source": [
    "#### After RNNDecoder + ConvDecoder"
   ]
  },
  {
   "cell_type": "code",
   "execution_count": 16,
   "metadata": {},
   "outputs": [
    {
     "data": {
      "image/png": "[encoded data removed]",
      "text/plain": [
       "<Figure size 720x360 with 3 Axes>"
      ]
     },
     "metadata": {
      "needs_background": "light"
     },
     "output_type": "display_data"
    }
   ],
   "source": [
    "utils.show_slices([\n",
    "    out_fmri.detach().cpu().numpy()[w, :, :, t],\n",
    "    out_fmri.detach().cpu().numpy()[:, h, :, t],\n",
    "    out_fmri.detach().cpu().numpy()[:, :, d, t]\n",
    "])"
   ]
  },
  {
   "cell_type": "code",
   "execution_count": 17,
   "metadata": {},
   "outputs": [
    {
     "name": "stdout",
     "output_type": "stream",
     "text": [
      "Loss_conv: 0.5033204555511475, Loss_rnn_conv: 2.105264186859131\n"
     ]
    }
   ],
   "source": [
    "criterion = nn.MSELoss()\n",
    "loss_conv = criterion(conv_dec_out.cpu(), torch.tensor(fmri).float())\n",
    "loss_rnn_conv = criterion(out_fmri.cpu(), torch.tensor(fmri).float())\n",
    "print(\"Loss_conv: {}, Loss_rnn_conv: {}\".format(loss_conv, loss_rnn_conv))"
   ]
  },
  {
   "cell_type": "code",
   "execution_count": null,
   "metadata": {},
   "outputs": [],
   "source": []
  }
 ],
 "metadata": {
  "kernelspec": {
   "display_name": "Python 3",
   "language": "python",
   "name": "python3"
  },
  "language_info": {
   "codemirror_mode": {
    "name": "ipython",
    "version": 3
   },
   "file_extension": ".py",
   "mimetype": "text/x-python",
   "name": "python",
   "nbconvert_exporter": "python",
   "pygments_lexer": "ipython3",
   "version": "3.7.1"
  }
 },
 "nbformat": 4,
 "nbformat_minor": 2
}
